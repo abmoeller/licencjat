{
 "cells": [
  {
   "cell_type": "code",
   "execution_count": 1,
   "id": "8f4cbe9d-5702-48f5-9676-3f1e638dce79",
   "metadata": {},
   "outputs": [],
   "source": [
    "import xarray as xr\n",
    "import netCDF4 as nc\n",
    "import matplotlib.pyplot as plt\n",
    "import numpy as np"
   ]
  },
  {
   "cell_type": "code",
   "execution_count": 11,
   "id": "9c08bd40-e9b0-4098-afbd-ebf7fe4a81bf",
   "metadata": {},
   "outputs": [
    {
     "name": "stdout",
     "output_type": "stream",
     "text": [
      "<xarray.Dataset> Size: 10kB\n",
      "Dimensions:    (time: 1, n_levels: 135)\n",
      "Coordinates:\n",
      "  * time       (time) datetime64[ns] 8B 2022-06-25T06:31:50\n",
      "Dimensions without coordinates: n_levels\n",
      "Data variables:\n",
      "    latitude   (time) float64 8B ...\n",
      "    longitude  (time) float64 8B ...\n",
      "    pres       (time, n_levels) float64 1kB ...\n",
      "    temp       (time, n_levels) float64 1kB ...\n",
      "    cond       (time, n_levels) float64 1kB ...\n",
      "    psal       (time, n_levels) float64 1kB ...\n",
      "    fluo       (time, n_levels) float64 1kB ...\n",
      "    oxy        (time, n_levels) float64 1kB ...\n",
      "    oxysat     (time, n_levels) float64 1kB ...\n",
      "    ptemp      (time, n_levels) float64 1kB ...\n",
      "    sigmath    (time, n_levels) float64 1kB ...\n",
      "Attributes: (12/25)\n",
      "    title:                   IOPAN CTD data file\n",
      "    abstract:                IOPAN CTD data file from the AREX cruise with RV...\n",
      "    topiccategory:           oceans\n",
      "    keywords:                Oceanography Pressure Temperature Conductivity S...\n",
      "    activity_type:           Cruise\n",
      "    conventions:             CF-1.0\n",
      "    ...                      ...\n",
      "    Author_name:             Agnieszka Beszczynska-Möller\n",
      "    Author_email:            abesz@iopan.pl\n",
      "    distribution_statement:  These data are public and free of charge. User m...\n",
      "    citation:                These data were collected and made freely availa...\n",
      "    project_name:            AREX2022\n",
      "    station_name:            V1\n"
     ]
    }
   ],
   "source": [
    "file_path = '/Users/karolina/Desktop/V/AR22_003.nc'\n",
    "dataset = xr.open_dataset(file_path)\n",
    "print(dataset)"
   ]
  },
  {
   "cell_type": "code",
   "execution_count": 13,
   "id": "601ec281-ea5f-4d69-8003-cbd74ad2148a",
   "metadata": {},
   "outputs": [
    {
     "data": {
      "text/plain": [
       "Frozen({'time': <xarray.IndexVariable 'time' (time: 1)> Size: 8B\n",
       "array(['2022-06-25T06:31:50.000000000'], dtype='datetime64[ns]')\n",
       "Attributes:\n",
       "    short_name:     time\n",
       "    long_name:      time\n",
       "    standard_name:  time, 'latitude': <xarray.Variable (time: 1)> Size: 8B\n",
       "[1 values with dtype=float64]\n",
       "Attributes:\n",
       "    short_name:     latitude\n",
       "    long_name:      latitude\n",
       "    standard_name:  latitude\n",
       "    units:          degree_north, 'longitude': <xarray.Variable (time: 1)> Size: 8B\n",
       "[1 values with dtype=float64]\n",
       "Attributes:\n",
       "    short_name:     longitude\n",
       "    long_name:      longitude\n",
       "    standard_name:  longitude\n",
       "    units:          degree_east, 'pres': <xarray.Variable (time: 1, n_levels: 135)> Size: 1kB\n",
       "[135 values with dtype=float64]\n",
       "Attributes:\n",
       "    short_name:     pressure\n",
       "    long_name:      Sea Water Pressure\n",
       "    standard_name:  sea_water_pressure\n",
       "    units:          dbar, 'temp': <xarray.Variable (time: 1, n_levels: 135)> Size: 1kB\n",
       "[135 values with dtype=float64]\n",
       "Attributes:\n",
       "    short_name:     temperature\n",
       "    long_name:      Ocean temperature (ITS-90 deg. C)\n",
       "    standard_name:  sea_water_temperature\n",
       "    units:          degrees Celsius, 'cond': <xarray.Variable (time: 1, n_levels: 135)> Size: 1kB\n",
       "[135 values with dtype=float64]\n",
       "Attributes:\n",
       "    short_name:     conductivity\n",
       "    long_name:      Ocean conductivity (S/m)\n",
       "    standard_name:  sea_water_electrical_conductivity\n",
       "    units:          S/m, 'psal': <xarray.Variable (time: 1, n_levels: 135)> Size: 1kB\n",
       "[135 values with dtype=float64]\n",
       "Attributes:\n",
       "    short_name:     salinity\n",
       "    long_name:      Practical salinity (PSU/sal00)\n",
       "    standard_name:  sea_water_salinity\n",
       "    units:          , 'fluo': <xarray.Variable (time: 1, n_levels: 135)> Size: 1kB\n",
       "[135 values with dtype=float64]\n",
       "Attributes:\n",
       "    short_name:     fluorescence\n",
       "    long_name:      Ocean fluorescence (microg/l)\n",
       "    standard_name:  sea_water_fluorescence\n",
       "    units:          microg/l, 'oxy': <xarray.Variable (time: 1, n_levels: 135)> Size: 1kB\n",
       "[135 values with dtype=float64]\n",
       "Attributes:\n",
       "    short_name:     oxygen concentration\n",
       "    long_name:      Ocean oxygen mass concentration (ml/l)\n",
       "    standard_name:  mass_concentration_of_oxygen_in_sea_water\n",
       "    units:          ml/l, 'oxysat': <xarray.Variable (time: 1, n_levels: 135)> Size: 1kB\n",
       "[135 values with dtype=float64]\n",
       "Attributes:\n",
       "    short_name:     oxygen saturation\n",
       "    long_name:      Ocean oxygen saturation (percent)\n",
       "    standard_name:  fractional_saturation_of_oxygen_in_sea_water\n",
       "    units:          percent, 'ptemp': <xarray.Variable (time: 1, n_levels: 135)> Size: 1kB\n",
       "[135 values with dtype=float64]\n",
       "Attributes:\n",
       "    short_name:     potential temperature\n",
       "    long_name:      Ocean potential temperature (ITS-90 deg.C)\n",
       "    standard_name:  sea_water_potential_temperature\n",
       "    units:          degrees Celsius, 'sigmath': <xarray.Variable (time: 1, n_levels: 135)> Size: 1kB\n",
       "[135 values with dtype=float64]\n",
       "Attributes:\n",
       "    short_name:     density sigma-theta\n",
       "    long_name:      Ocean density (sigma-theta kg/m^3)\n",
       "    standard_name:  sea_water_density\n",
       "    units:          kg/m^3})"
      ]
     },
     "execution_count": 13,
     "metadata": {},
     "output_type": "execute_result"
    }
   ],
   "source": [
    "dataset.variables"
   ]
  },
  {
   "cell_type": "code",
   "execution_count": 17,
   "id": "40ffdf26-7858-4662-93b9-eed0af510567",
   "metadata": {},
   "outputs": [
    {
     "data": {
      "text/plain": [
       "{'title': 'IOPAN CTD data file',\n",
       " 'abstract': 'IOPAN CTD data file from the AREX cruise with RV Oceania performed in summer 2022',\n",
       " 'topiccategory': 'oceans',\n",
       " 'keywords': 'Oceanography Pressure Temperature Conductivity Salinity Oxygen Fluorescence Potential Temperature Potential Density',\n",
       " 'activity_type': 'Cruise',\n",
       " 'conventions': 'CF-1.0',\n",
       " 'product_name': 'ctd_arex2022',\n",
       " 'history': '03-Apr-2024 creation',\n",
       " 'area': 'Greenland Sea, Barents Sea, Fram Strait, Arctic Ocean',\n",
       " 'platform_name': 'RV Oceania',\n",
       " 'southernmost_latitude': '70.5',\n",
       " 'northernmost_latitude': '81.0',\n",
       " 'westernmost_longitude': '0.0',\n",
       " 'easternmost_longitude': '20.0',\n",
       " 'start_date': '2022-06-20 10:51:03 UTC',\n",
       " 'stop_date': '2022-07-27 00:51:57 UTC',\n",
       " 'institution': 'Institute of Oceanology Polish Academy of Sciences',\n",
       " 'PI_name': 'Agnieszka Beszczynska-Möller',\n",
       " 'PI_email': 'abesz@iopan.pl',\n",
       " 'Author_name': 'Agnieszka Beszczynska-Möller',\n",
       " 'Author_email': 'abesz@iopan.pl',\n",
       " 'distribution_statement': 'These data are public and free of charge. User must display citation in any publication or product using data. User must contact PI prior to any commercial use of data.',\n",
       " 'citation': 'These data were collected and made freely available by the IOPAN long-term program AREX as a contribution to the statutory research areas (Task I.4). ',\n",
       " 'project_name': 'AREX2022',\n",
       " 'station_name': 'V1'}"
      ]
     },
     "execution_count": 17,
     "metadata": {},
     "output_type": "execute_result"
    }
   ],
   "source": [
    "dataset.attrs"
   ]
  },
  {
   "cell_type": "code",
   "execution_count": 67,
   "id": "1e797db0-40e8-477f-b587-62d0719ee6d0",
   "metadata": {},
   "outputs": [
    {
     "name": "stdout",
     "output_type": "stream",
     "text": [
      "<class 'netCDF4._netCDF4.Dataset'>\n",
      "root group (NETCDF3_CLASSIC data model, file format NETCDF3):\n",
      "    title: IOPAN CTD data file\n",
      "    abstract: IOPAN CTD data file from the AREX cruise with RV Oceania performed in summer 2022\n",
      "    topiccategory: oceans\n",
      "    keywords: Oceanography Pressure Temperature Conductivity Salinity Oxygen Fluorescence Potential Temperature Potential Density\n",
      "    activity_type: Cruise\n",
      "    conventions: CF-1.0\n",
      "    product_name: ctd_arex2022\n",
      "    history: 03-Apr-2024 creation\n",
      "    area: Greenland Sea, Barents Sea, Fram Strait, Arctic Ocean\n",
      "    platform_name: RV Oceania\n",
      "    southernmost_latitude: 70.5\n",
      "    northernmost_latitude: 81.0\n",
      "    westernmost_longitude: 0.0\n",
      "    easternmost_longitude: 20.0\n",
      "    start_date: 2022-06-20 10:51:03 UTC\n",
      "    stop_date: 2022-07-27 00:51:57 UTC\n",
      "    institution: Institute of Oceanology Polish Academy of Sciences\n",
      "    PI_name: Agnieszka Beszczynska-Möller\n",
      "    PI_email: abesz@iopan.pl\n",
      "    Author_name: Agnieszka Beszczynska-Möller\n",
      "    Author_email: abesz@iopan.pl\n",
      "    distribution_statement: These data are public and free of charge. User must display citation in any publication or product using data. User must contact PI prior to any commercial use of data.\n",
      "    citation: These data were collected and made freely available by the IOPAN long-term program AREX as a contribution to the statutory research areas (Task I.4). \n",
      "    project_name: AREX2022\n",
      "    station_name: V1\n",
      "    dimensions(sizes): time(1), n_levels(135)\n",
      "    variables(dimensions): float64 time(time), float64 latitude(time), float64 longitude(time), float64 pres(time, n_levels), float64 temp(time, n_levels), float64 cond(time, n_levels), float64 psal(time, n_levels), float64 fluo(time, n_levels), float64 oxy(time, n_levels), float64 oxysat(time, n_levels), float64 ptemp(time, n_levels), float64 sigmath(time, n_levels)\n",
      "    groups: \n"
     ]
    }
   ],
   "source": [
    "from netCDF4 import Dataset\n",
    "data=Dataset(file_path, moder='r')\n",
    "print(data)"
   ]
  },
  {
   "cell_type": "code",
   "execution_count": 49,
   "id": "cdebc8e2-fa5f-423a-871b-9e4782d1faa7",
   "metadata": {},
   "outputs": [
    {
     "name": "stdout",
     "output_type": "stream",
     "text": [
      "dict_keys(['time', 'latitude', 'longitude', 'pres', 'temp', 'cond', 'psal', 'fluo', 'oxy', 'oxysat', 'ptemp', 'sigmath'])\n"
     ]
    }
   ],
   "source": [
    "nc_file=Dataset(file_path, 'r')\n",
    "print(nc_file.variables.keys())"
   ]
  },
  {
   "cell_type": "code",
   "execution_count": 77,
   "id": "d7759386-8a7f-48e4-a34c-472b32c991dc",
   "metadata": {},
   "outputs": [],
   "source": [
    "ptemp = nc_file.variables['ptemp'][0,:]\n",
    "psal = nc_file.variables['psal'][0,:]"
   ]
  },
  {
   "cell_type": "code",
   "execution_count": 79,
   "id": "78265bae-dee5-4062-bbf1-840a2299d29c",
   "metadata": {},
   "outputs": [],
   "source": [
    "depth = np.arange(len(ptemp))"
   ]
  },
  {
   "cell_type": "code",
   "execution_count": 95,
   "id": "54d4bdb8-29e5-4fc4-aa3f-270c6a6e9211",
   "metadata": {},
   "outputs": [
    {
     "data": {
      "text/plain": [
       "Text(0.5, 1.0, 'Depth Profile: Salinity and Temperature')"
      ]
     },
     "execution_count": 95,
     "metadata": {},
     "output_type": "execute_result"
    },
    {
     "data": {
      "image/png": "[encoded data removed]",
      "text/plain": [
       "<Figure size 800x600 with 2 Axes>"
      ]
     },
     "metadata": {},
     "output_type": "display_data"
    }
   ],
   "source": [
    "fig, ax1 = plt.subplots(figsize=(8,6))\n",
    "#oś główna: depth vs sal\n",
    "ax1.plot(psal, depth, label=\"psal\", color=\"blue\")\n",
    "ax1.set_xlabel(\"Salinity (PSU)\", color=\"blue\", labelpad=15)\n",
    "ax1.set_ylabel(\"Depth (m)\")\n",
    "ax1.invert_yaxis()\n",
    "ax1.tick_params(axis=\"x\", colors=\"blue\")\n",
    " #dodatkowa oś x\n",
    "ax2=ax1.twiny()\n",
    "ax2.plot(ptemp, depth, label=\"Temperature\", color=\"red\")\n",
    "ax2.set_xlabel(\"Temperature (°C)\", color=\"red\", labelpad=15)\n",
    "ax2.tick_params(axis=\"x\", colors=\"red\")\n",
    "plt.title(\"Depth Profile: Salinity and Temperature\", pad=30)"
   ]
  },
  {
   "cell_type": "code",
   "execution_count": 105,
   "id": "db784343-f3ea-41b5-b1b3-6fa08a0f83b4",
   "metadata": {},
   "outputs": [],
   "source": [
    "fig.savefig(\"/Users/karolina/Desktop/wykresyV/wykresV1.png\", dpi = 300, bbox_inches='tight')"
   ]
  },
  {
   "cell_type": "code",
   "execution_count": null,
   "id": "b14410b9-f522-4506-844b-916a22475895",
   "metadata": {},
   "outputs": [],
   "source": []
  }
 ],
 "metadata": {
  "kernelspec": {
   "display_name": "Python 3 (ipykernel)",
   "language": "python",
   "name": "python3"
  },
  "language_info": {
   "codemirror_mode": {
    "name": "ipython",
    "version": 3
   },
   "file_extension": ".py",
   "mimetype": "text/x-python",
   "name": "python",
   "nbconvert_exporter": "python",
   "pygments_lexer": "ipython3",
   "version": "3.11.7"
  }
 },
 "nbformat": 4,
 "nbformat_minor": 5
}
