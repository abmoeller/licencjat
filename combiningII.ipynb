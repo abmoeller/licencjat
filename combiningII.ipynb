{
 "cells": [
  {
   "cell_type": "code",
   "execution_count": 6,
   "id": "425b2d13-902c-4bad-91fa-9a74e083b5e9",
   "metadata": {},
   "outputs": [],
   "source": [
    "import xarray as xr\n",
    "import numpy as np\n",
    "import glob"
   ]
  },
  {
   "cell_type": "code",
   "execution_count": 8,
   "id": "eba696aa-8171-469d-ad55-1e65e28576d4",
   "metadata": {},
   "outputs": [],
   "source": [
    "file_path='/users/karolina/desktop/oc/AREX2022netcdf/*.nc'"
   ]
  },
  {
   "cell_type": "code",
   "execution_count": 10,
   "id": "6fc08728-127d-472b-bbee-1c5ca6112782",
   "metadata": {},
   "outputs": [],
   "source": [
    "file_list=glob.glob(file_path)"
   ]
  },
  {
   "cell_type": "code",
   "execution_count": 12,
   "id": "90957df6-66e8-4ac9-8c8c-39d683d3533d",
   "metadata": {},
   "outputs": [],
   "source": [
    "datasets=[xr.open_dataset(fp) for fp in file_list]"
   ]
  },
  {
   "cell_type": "code",
   "execution_count": 13,
   "id": "0ca30e38-a8c5-44cb-9ac5-638ec580a2ec",
   "metadata": {},
   "outputs": [
    {
     "name": "stdout",
     "output_type": "stream",
     "text": [
      "251\n"
     ]
    }
   ],
   "source": [
    "print(len(datasets))"
   ]
  },
  {
   "cell_type": "code",
   "execution_count": 16,
   "id": "f775f5ec-6d25-4db6-8863-6d57334062e8",
   "metadata": {},
   "outputs": [
    {
     "name": "stdout",
     "output_type": "stream",
     "text": [
      "Max number of n_levels: 3631\n"
     ]
    }
   ],
   "source": [
    "max_levels = max(ds.sizes.get('n_levels', 0) for ds in datasets)\n",
    "print(\"Max number of n_levels:\", max_levels)"
   ]
  },
  {
   "cell_type": "code",
   "execution_count": 42,
   "id": "4c762c97-03e3-445a-a8e1-8a77fc9a6577",
   "metadata": {},
   "outputs": [
    {
     "name": "stdout",
     "output_type": "stream",
     "text": [
      "[<xarray.Dataset> Size: 261kB\n",
      "Dimensions:    (time: 1, n_levels: 3631)\n",
      "Coordinates:\n",
      "  * time       (time) datetime64[ns] 8B 2022-07-24T01:18:42\n",
      "Dimensions without coordinates: n_levels\n",
      "Data variables:\n",
      "    latitude   (time) float64 8B 78.17\n",
      "    longitude  (time) float64 8B 10.99\n",
      "    pres       (time, n_levels) float64 29kB 2.0 3.0 4.0 5.0 ... nan nan nan nan\n",
      "    temp       (time, n_levels) float64 29kB 8.239 8.24 8.248 ... nan nan nan\n",
      "    cond       (time, n_levels) float64 29kB 35.99 35.99 36.0 ... nan nan nan\n",
      "    psal       (time, n_levels) float64 29kB 34.53 34.53 34.53 ... nan nan nan\n",
      "    fluo       (time, n_levels) float64 29kB 0.6613 1.091 1.078 ... nan nan nan\n",
      "    oxy        (time, n_levels) float64 29kB 7.038 7.048 7.056 ... nan nan nan\n",
      "    oxysat     (time, n_levels) float64 29kB 106.9 107.1 107.2 ... nan nan nan\n",
      "    ptemp      (time, n_levels) float64 29kB 8.239 8.239 8.247 ... nan nan nan\n",
      "    sigmath    (time, n_levels) float64 29kB 26.87 26.87 26.87 ... nan nan nan\n",
      "Attributes: (12/25)\n",
      "    title:                   IOPAN CTD data file\n",
      "    abstract:                IOPAN CTD data file from the AREX cruise with RV...\n",
      "    topiccategory:           oceans\n",
      "    keywords:                Oceanography Pressure Temperature Conductivity S...\n",
      "    activity_type:           Cruise\n",
      "    conventions:             CF-1.0\n",
      "    ...                      ...\n",
      "    Author_name:             Agnieszka Beszczynska-Möller\n",
      "    Author_email:            abesz@iopan.pl\n",
      "    distribution_statement:  These data are public and free of charge. User m...\n",
      "    citation:                These data were collected and made freely availa...\n",
      "    project_name:            AREX2022\n",
      "    station_name:            Z1, <xarray.Dataset> Size: 261kB\n",
      "Dimensions:    (time: 1, n_levels: 3631)\n",
      "Coordinates:\n",
      "  * time       (time) datetime64[ns] 8B 2022-07-08T13:06:27\n",
      "Dimensions without coordinates: n_levels\n",
      "Data variables:\n",
      "    latitude   (time) float64 8B 76.5\n",
      "    longitude  (time) float64 8B 11.01\n",
      "    pres       (time, n_levels) float64 29kB 1.0 2.0 3.0 4.0 ... nan nan nan nan\n",
      "    temp       (time, n_levels) float64 29kB 6.874 6.891 6.849 ... nan nan nan\n",
      "    cond       (time, n_levels) float64 29kB 35.16 35.17 35.14 ... nan nan nan\n",
      "    psal       (time, n_levels) float64 29kB 34.99 34.99 34.99 ... nan nan nan\n",
      "    fluo       (time, n_levels) float64 29kB 0.43 0.4479 1.543 ... nan nan nan\n",
      "    oxy        (time, n_levels) float64 29kB 7.295 7.279 7.267 ... nan nan nan\n",
      "    oxysat     (time, n_levels) float64 29kB 107.7 107.4 107.3 ... nan nan nan\n",
      "    ptemp      (time, n_levels) float64 29kB 6.874 6.891 6.849 ... nan nan nan\n",
      "    sigmath    (time, n_levels) float64 29kB 27.43 27.42 27.43 ... nan nan nan\n",
      "Attributes: (12/25)\n",
      "    title:                   IOPAN CTD data file\n",
      "    abstract:                IOPAN CTD data file from the AREX cruise with RV...\n",
      "    topiccategory:           oceans\n",
      "    keywords:                Oceanography Pressure Temperature Conductivity S...\n",
      "    activity_type:           Cruise\n",
      "    conventions:             CF-1.0\n",
      "    ...                      ...\n",
      "    Author_name:             Agnieszka Beszczynska-Möller\n",
      "    Author_email:            abesz@iopan.pl\n",
      "    distribution_statement:  These data are public and free of charge. User m...\n",
      "    citation:                These data were collected and made freely availa...\n",
      "    project_name:            AREX2022\n",
      "    station_name:            N0, <xarray.Dataset> Size: 261kB\n",
      "Dimensions:    (time: 1, n_levels: 3631)\n",
      "Coordinates:\n",
      "  * time       (time) datetime64[ns] 8B 2022-07-02T08:38:42\n",
      "Dimensions without coordinates: n_levels\n",
      "Data variables:\n",
      "    latitude   (time) float64 8B 75.0\n",
      "    longitude  (time) float64 8B 13.18\n",
      "    pres       (time, n_levels) float64 29kB 4.0 5.0 6.0 7.0 ... nan nan nan nan\n",
      "    temp       (time, n_levels) float64 29kB 7.958 7.954 7.951 ... nan nan nan\n",
      "    cond       (time, n_levels) float64 29kB 36.13 36.12 36.12 ... nan nan nan\n",
      "    psal       (time, n_levels) float64 29kB 34.95 34.95 34.95 ... nan nan nan\n",
      "    fluo       (time, n_levels) float64 29kB 1.264 1.288 1.446 ... nan nan nan\n",
      "    oxy        (time, n_levels) float64 29kB 6.96 6.957 6.958 ... nan nan nan\n",
      "    oxysat     (time, n_levels) float64 29kB 105.3 105.3 105.3 ... nan nan nan\n",
      "    ptemp      (time, n_levels) float64 29kB 7.958 7.953 7.95 ... nan nan nan\n",
      "    sigmath    (time, n_levels) float64 29kB 27.24 27.24 27.24 ... nan nan nan\n",
      "Attributes: (12/25)\n",
      "    title:                   IOPAN CTD data file\n",
      "    abstract:                IOPAN CTD data file from the AREX cruise with RV...\n",
      "    topiccategory:           oceans\n",
      "    keywords:                Oceanography Pressure Temperature Conductivity S...\n",
      "    activity_type:           Cruise\n",
      "    conventions:             CF-1.0\n",
      "    ...                      ...\n",
      "    Author_name:             Agnieszka Beszczynska-Möller\n",
      "    Author_email:            abesz@iopan.pl\n",
      "    distribution_statement:  These data are public and free of charge. User m...\n",
      "    citation:                These data were collected and made freely availa...\n",
      "    project_name:            AREX2022\n",
      "    station_name:            K7, <xarray.Dataset> Size: 261kB\n",
      "Dimensions:    (time: 1, n_levels: 3631)\n",
      "Coordinates:\n",
      "  * time       (time) datetime64[ns] 8B 2022-07-13T19:37:46\n",
      "Dimensions without coordinates: n_levels\n",
      "Data variables:\n",
      "    latitude   (time) float64 8B 80.48\n",
      "    longitude  (time) float64 8B 12.17\n",
      "    pres       (time, n_levels) float64 29kB 2.0 3.0 4.0 5.0 ... nan nan nan nan\n",
      "    temp       (time, n_levels) float64 29kB 1.829 1.818 1.756 ... nan nan nan\n",
      "    cond       (time, n_levels) float64 29kB 28.69 28.69 28.64 ... nan nan nan\n",
      "    psal       (time, n_levels) float64 29kB 32.57 32.57 32.57 ... nan nan nan\n",
      "    fluo       (time, n_levels) float64 29kB 0.0 0.0 0.0004 ... nan nan nan\n",
      "    oxy        (time, n_levels) float64 29kB 7.79 7.793 7.805 ... nan nan nan\n",
      "    oxysat     (time, n_levels) float64 29kB 100.2 100.2 99.81 ... nan nan nan\n",
      "    ptemp      (time, n_levels) float64 29kB 1.829 1.818 1.756 ... nan nan nan\n",
      "    sigmath    (time, n_levels) float64 29kB 26.04 26.04 26.04 ... nan nan nan\n",
      "Attributes: (12/25)\n",
      "    title:                   IOPAN CTD data file\n",
      "    abstract:                IOPAN CTD data file from the AREX cruise with RV...\n",
      "    topiccategory:           oceans\n",
      "    keywords:                Oceanography Pressure Temperature Conductivity S...\n",
      "    activity_type:           Cruise\n",
      "    conventions:             CF-1.0\n",
      "    ...                      ...\n",
      "    Author_name:             Agnieszka Beszczynska-Möller\n",
      "    Author_email:            abesz@iopan.pl\n",
      "    distribution_statement:  These data are public and free of charge. User m...\n",
      "    citation:                These data were collected and made freely availa...\n",
      "    project_name:            AREX2022\n",
      "    station_name:            WB11, <xarray.Dataset> Size: 261kB\n",
      "Dimensions:    (time: 1, n_levels: 3631)\n",
      "Coordinates:\n",
      "  * time       (time) datetime64[ns] 8B 2022-06-25T10:26:55\n",
      "Dimensions without coordinates: n_levels\n",
      "Data variables:\n",
      "    latitude   (time) float64 8B 70.83\n",
      "    longitude  (time) float64 8B 19.93\n",
      "    pres       (time, n_levels) float64 29kB 1.0 2.0 3.0 4.0 ... nan nan nan nan\n",
      "    temp       (time, n_levels) float64 29kB 8.461 8.414 8.378 ... nan nan nan\n",
      "    cond       (time, n_levels) float64 29kB 35.85 35.81 35.78 ... nan nan nan\n",
      "    psal       (time, n_levels) float64 29kB 34.16 34.16 34.16 ... nan nan nan\n",
      "    fluo       (time, n_levels) float64 29kB 0.2872 0.2918 0.2923 ... nan nan\n",
      "    oxy        (time, n_levels) float64 29kB 7.165 7.171 7.182 ... nan nan nan\n",
      "    oxysat     (time, n_levels) float64 29kB 109.0 109.0 109.1 ... nan nan nan\n",
      "    ptemp      (time, n_levels) float64 29kB 8.461 8.414 8.378 ... nan nan nan\n",
      "    sigmath    (time, n_levels) float64 29kB 26.55 26.55 26.56 ... nan nan nan\n",
      "Attributes: (12/25)\n",
      "    title:                   IOPAN CTD data file\n",
      "    abstract:                IOPAN CTD data file from the AREX cruise with RV...\n",
      "    topiccategory:           oceans\n",
      "    keywords:                Oceanography Pressure Temperature Conductivity S...\n",
      "    activity_type:           Cruise\n",
      "    conventions:             CF-1.0\n",
      "    ...                      ...\n",
      "    Author_name:             Agnieszka Beszczynska-Möller\n",
      "    Author_email:            abesz@iopan.pl\n",
      "    distribution_statement:  These data are public and free of charge. User m...\n",
      "    citation:                These data were collected and made freely availa...\n",
      "    project_name:            AREX2022\n",
      "    station_name:            V3]\n"
     ]
    }
   ],
   "source": [
    "aligned_datasets=[\n",
    "    ds.pad(n_levels=(0, max_levels-ds.sizes[\"n_levels\"]), constant_values=np.nan)\n",
    "    if \"n_levels\" in ds.sizes else ds\n",
    "    for ds in datasets\n",
    "]\n",
    "print(aligned_datasets[:5])"
   ]
  },
  {
   "cell_type": "code",
   "execution_count": 20,
   "id": "b0d93708-7b5f-4a21-b1e2-67b4fab99869",
   "metadata": {},
   "outputs": [
    {
     "name": "stdout",
     "output_type": "stream",
     "text": [
      "251\n"
     ]
    }
   ],
   "source": [
    "print(len(aligned_datasets))"
   ]
  },
  {
   "cell_type": "code",
   "execution_count": 22,
   "id": "81971665-bb0b-4089-b540-9a74946f218e",
   "metadata": {},
   "outputs": [],
   "source": [
    "variables = ['psal', 'ptemp', 'latitude', 'longitude']\n",
    "\n",
    "\n",
    "selected_data = []\n",
    "\n",
    "for ds in aligned_datasets:\n",
    "    try:\n",
    "        if 'station_name' in ds:\n",
    "            station_name=ds['station_name'].values\n",
    "        elif 'station_name' in ds.attrs:\n",
    "            station_name=ds.attrs['station_name']\n",
    "            \n",
    "        station_data = {\n",
    "            'station_name': station_name,\n",
    "            'latitude': ds['latitude'].values if 'latitude' in ds else np.nan,\n",
    "            'longitude': ds['longitude'].values if 'longitude' in ds else np.nan,\n",
    "            'psal': ds['psal'].values if 'psal' in ds else np.nan,\n",
    "            'ptemp': ds['ptemp'].values if 'ptemp' in ds else np.nan\n",
    "        }\n",
    "        selected_data.append(station_data)\n",
    "    except Exception as e:\n",
    "        print(f\"Data processing error: {e}\")\n",
    "\n"
   ]
  },
  {
   "cell_type": "code",
   "execution_count": 38,
   "id": "38ca0a0c-d5c2-43bc-a531-5be03a35f189",
   "metadata": {},
   "outputs": [
    {
     "name": "stdout",
     "output_type": "stream",
     "text": [
      "{'station_name': 'Z1', 'latitude': array([78.17433333]), 'longitude': array([10.9905]), 'psal': array([[34.5255, 34.5256, 34.5275, ...,     nan,     nan,     nan]]), 'ptemp': array([[8.2388, 8.2394, 8.2472, ...,    nan,    nan,    nan]])}\n",
      "{'station_name': 'N0', 'latitude': array([76.50316667]), 'longitude': array([11.0115]), 'psal': array([[34.9856, 34.9866, 34.9885, ...,     nan,     nan,     nan]]), 'ptemp': array([[6.8736, 6.8905, 6.8492, ...,    nan,    nan,    nan]])}\n",
      "{'station_name': 'K7', 'latitude': array([74.99983333]), 'longitude': array([13.177]), 'psal': array([[34.9499, 34.9497, 34.9498, ...,     nan,     nan,     nan]]), 'ptemp': array([[7.9576, 7.953 , 7.9505, ...,    nan,    nan,    nan]])}\n",
      "{'station_name': 'WB11', 'latitude': array([80.48166667]), 'longitude': array([12.1655]), 'psal': array([[32.568 , 32.5677, 32.5667, ...,     nan,     nan,     nan]]), 'ptemp': array([[1.8288, 1.8178, 1.7556, ...,    nan,    nan,    nan]])}\n",
      "{'station_name': 'V3', 'latitude': array([70.83233333]), 'longitude': array([19.933]), 'psal': array([[34.1618, 34.1633, 34.1638, ...,     nan,     nan,     nan]]), 'ptemp': array([[8.4606, 8.4135, 8.3779, ...,    nan,    nan,    nan]])}\n"
     ]
    }
   ],
   "source": [
    "for i, data in enumerate(selected_data[:5]): #For first 5 stations\n",
    "    print(data)"
   ]
  },
  {
   "cell_type": "code",
   "execution_count": 32,
   "id": "bb79e444-5408-4e64-bf60-3ba353892350",
   "metadata": {},
   "outputs": [
    {
     "name": "stdout",
     "output_type": "stream",
     "text": [
      "Stacja 1:\n",
      "  Nazwa: Z1\n",
      "  Szerokość geograficzna: 78.17433333333334\n",
      "  Długość geograficzna: 10.9905\n",
      "  Salinity (psal): [34.5255 34.5256 34.5275 34.5296 34.5335] ...\n",
      "  Potential Temperature (ptemp): [8.2388 8.2394 8.2472 8.2509 8.2638] ...\n",
      "--------------------------------------------------\n",
      "Stacja 2:\n",
      "  Nazwa: N0\n",
      "  Szerokość geograficzna: 76.50316666666667\n",
      "  Długość geograficzna: 11.0115\n",
      "  Salinity (psal): [34.9856 34.9866 34.9885 34.9877 34.9853] ...\n",
      "  Potential Temperature (ptemp): [6.8736 6.8905 6.8492 6.8708 6.9006] ...\n",
      "--------------------------------------------------\n",
      "Stacja 3:\n",
      "  Nazwa: K7\n",
      "  Szerokość geograficzna: 74.99983333333333\n",
      "  Długość geograficzna: 13.177\n",
      "  Salinity (psal): [34.9499 34.9497 34.9498 34.9495 34.9495] ...\n",
      "  Potential Temperature (ptemp): [7.9576 7.953  7.9505 7.9462 7.9446] ...\n",
      "--------------------------------------------------\n",
      "Stacja 4:\n",
      "  Nazwa: WB11\n",
      "  Szerokość geograficzna: 80.48166666666667\n",
      "  Długość geograficzna: 12.1655\n",
      "  Salinity (psal): [32.568  32.5677 32.5667 32.5738 32.6309] ...\n",
      "  Potential Temperature (ptemp): [1.8288 1.8178 1.7556 1.5802 1.6397] ...\n",
      "--------------------------------------------------\n",
      "Stacja 5:\n",
      "  Nazwa: V3\n",
      "  Szerokość geograficzna: 70.83233333333334\n",
      "  Długość geograficzna: 19.933\n",
      "  Salinity (psal): [34.1618 34.1633 34.1638 34.1656 34.1673] ...\n",
      "  Potential Temperature (ptemp): [8.4606 8.4135 8.3779 8.3571 8.3314] ...\n",
      "--------------------------------------------------\n"
     ]
    }
   ],
   "source": [
    "for i, data in enumerate(selected_data[:5]): #For first 5 station\n",
    "    print(f\"Stacja {i+1}:\")\n",
    "    print(f\"  Nazwa: {data['station_name']}\")\n",
    "    print(f\"  Szerokość geograficzna: {data['latitude'][0]}\")\n",
    "    print(f\"  Długość geograficzna: {data['longitude'][0]}\")\n",
    "    print(f\"  Salinity (psal): {data['psal'][0][:5]} ...\")  #Only first 5 values\n",
    "    print(f\"  Potential Temperature (ptemp): {data['ptemp'][0][:5]} ...\") #Only first 5 values\n",
    "    print(\"-\" * 50)"
   ]
  },
  {
   "cell_type": "code",
   "execution_count": 71,
   "id": "36185520-217c-4695-a118-bacd9fac28d2",
   "metadata": {},
   "outputs": [
    {
     "name": "stdout",
     "output_type": "stream",
     "text": [
      "Number of stations with names beginning with 'K': 22\n",
      "Stacja 1: K7\n",
      "Stacja 2: K1\n",
      "Stacja 3: K17\n",
      "Stacja 4: K-3\n",
      "Stacja 5: K11\n",
      "Stacja 6: K10\n",
      "Stacja 7: K6\n",
      "Stacja 8: K0\n",
      "Stacja 9: K16\n",
      "Stacja 10: K3\n",
      "Stacja 11: K13\n",
      "Stacja 12: K2\n",
      "Stacja 13: K12\n",
      "Stacja 14: K9\n",
      "Stacja 15: K5\n",
      "Stacja 16: K-1\n",
      "Stacja 17: K15\n",
      "Stacja 18: K4\n",
      "Stacja 19: K-2\n",
      "Stacja 20: K14\n",
      "Stacja 21: K8\n",
      "Stacja 22: K18\n"
     ]
    }
   ],
   "source": [
    "#stations beginning with 'K'\n",
    "filtered_data = [data for data in selected_data if data['station_name'].startswith('K')]\n",
    "#total number \n",
    "print(f\"Number of stations with names beginning with 'K': {len(filtered_data)}\")\n",
    "\n",
    "for i, data in enumerate(filtered_data):\n",
    "    print(f\"Stacja {i+1}: {data['station_name']}\")"
   ]
  },
  {
   "cell_type": "code",
   "execution_count": 69,
   "id": "01202780-df70-4b9b-9637-a78a3d8295ba",
   "metadata": {},
   "outputs": [
    {
     "name": "stdout",
     "output_type": "stream",
     "text": [
      "Stacja 1: K7\n",
      "  Latitude: [74.99983333]\n",
      "  Longitude: [13.177]\n",
      "  psal: [[34.9499 34.9497 34.9498 ...     nan     nan     nan]]\n",
      "  ptemp: [[7.9576 7.953  7.9505 ...    nan    nan    nan]]\n",
      "--------------------------------------------------\n",
      "Stacja 2: K1\n",
      "  Latitude: [74.99916667]\n",
      "  Longitude: [16.07733333]\n",
      "  psal: [[34.9098 34.9105 34.9104 ...     nan     nan     nan]]\n",
      "  ptemp: [[8.0409 8.0418 8.0401 ...    nan    nan    nan]]\n",
      "--------------------------------------------------\n",
      "Stacja 3: K17\n",
      "  Latitude: [74.99966667]\n",
      "  Longitude: [3.9985]\n",
      "  psal: [[34.9912 34.9911 34.9916 ...     nan     nan     nan]]\n",
      "  ptemp: [[5.8268 5.8283 5.8291 ...    nan    nan    nan]]\n",
      "--------------------------------------------------\n",
      "Stacja 4: K-3\n",
      "  Latitude: [74.99783333]\n",
      "  Longitude: [17.98566667]\n",
      "  psal: [[34.8817 34.8831 34.8834 ...     nan     nan     nan]]\n",
      "  ptemp: [[6.7795 6.7994 6.8014 ...    nan    nan    nan]]\n",
      "--------------------------------------------------\n",
      "Stacja 5: K11\n",
      "  Latitude: [74.99933333]\n",
      "  Longitude: [9.15933333]\n",
      "  psal: [[35.0146 35.0145 35.0147 ...     nan     nan     nan]]\n",
      "  ptemp: [[6.8321 6.8326 6.8307 ...    nan    nan    nan]]\n",
      "--------------------------------------------------\n"
     ]
    }
   ],
   "source": [
    "for i, data in enumerate(filtered_data[:5]):  #For first 5 stations \n",
    "    print(f\"Stacja {i+1}: {data['station_name']}\")\n",
    "    print(f\"  Latitude: {data['latitude'] if 'latitude' in data and data['latitude'] is not None else 'Brak danych'}\")\n",
    "    print(f\"  Longitude: {data['longitude'] if 'longitude' in data and data['longitude'] is not None else 'Brak danych'}\")\n",
    "    print(f\"  psal: {data['psal'] if 'psal' in data and data['psal'] is not None else 'Brak danych'}\")\n",
    "    print(f\"  ptemp: {data['ptemp'] if 'ptemp' in data and data['ptemp'] is not None else 'Brak danych'}\")\n",
    "    print(\"-\" * 50)\n"
   ]
  },
  {
   "cell_type": "code",
   "execution_count": null,
   "id": "3e990fcf-6ab7-42c8-8490-a35f34a71c14",
   "metadata": {},
   "outputs": [],
   "source": []
  }
 ],
 "metadata": {
  "kernelspec": {
   "display_name": "Python 3 (ipykernel)",
   "language": "python",
   "name": "python3"
  },
  "language_info": {
   "codemirror_mode": {
    "name": "ipython",
    "version": 3
   },
   "file_extension": ".py",
   "mimetype": "text/x-python",
   "name": "python",
   "nbconvert_exporter": "python",
   "pygments_lexer": "ipython3",
   "version": "3.11.7"
  }
 },
 "nbformat": 4,
 "nbformat_minor": 5
}
