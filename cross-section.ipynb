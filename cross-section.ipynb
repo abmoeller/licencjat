{
 "cells": [
  {
   "cell_type": "code",
   "execution_count": 47,
   "id": "a4770da3-5fd7-4b57-9f52-fba2952ad2e2",
   "metadata": {},
   "outputs": [],
   "source": [
    "import xarray as xr\n",
    "import numpy as np\n",
    "import glob"
   ]
  },
  {
   "cell_type": "code",
   "execution_count": 48,
   "id": "3ebf9087-4995-4b2b-8681-148e929ba225",
   "metadata": {},
   "outputs": [],
   "source": [
    "file_path='/users/karolina/Documents/ocII/AREX2022netcdf/*.nc'"
   ]
  },
  {
   "cell_type": "code",
   "execution_count": 49,
   "id": "34a02019-38fc-4553-b70b-66a88fca6d4a",
   "metadata": {},
   "outputs": [],
   "source": [
    "file_list=glob.glob(file_path)"
   ]
  },
  {
   "cell_type": "code",
   "execution_count": 50,
   "id": "6740544a-d286-42b1-b732-c93bfdfe3eb5",
   "metadata": {},
   "outputs": [],
   "source": [
    "datasets=[xr.open_dataset(fp) for fp in file_list]"
   ]
  },
  {
   "cell_type": "code",
   "execution_count": 51,
   "id": "fa5257f8-6274-49d6-9e63-f8c55d9b1354",
   "metadata": {},
   "outputs": [
    {
     "name": "stdout",
     "output_type": "stream",
     "text": [
      "Max number of n_levels: 3631\n"
     ]
    }
   ],
   "source": [
    "max_levels = max(ds.sizes.get('n_levels', 0) for ds in datasets)\n",
    "print(\"Max number of n_levels:\", max_levels)"
   ]
  },
  {
   "cell_type": "code",
   "execution_count": 52,
   "id": "ce1eccb9-84ac-41dd-ac22-d370592bc421",
   "metadata": {},
   "outputs": [],
   "source": [
    "aligned_datasets=[\n",
    "    ds.pad(n_levels=(0, max_levels-ds.sizes[\"n_levels\"]), constant_values=np.nan)\n",
    "    if \"n_levels\" in ds.sizes else ds\n",
    "    for ds in datasets\n",
    "]"
   ]
  },
  {
   "cell_type": "code",
   "execution_count": 53,
   "id": "f95037c8-e074-4aa4-b0b4-3be6831c3197",
   "metadata": {},
   "outputs": [],
   "source": [
    "\n",
    "\n",
    "selected_data = []\n",
    "\n",
    "for ds in aligned_datasets:\n",
    "    try:\n",
    "        if 'station_name' in ds:\n",
    "            station_name=ds['station_name'].values\n",
    "        elif 'station_name' in ds.attrs:\n",
    "            station_name=ds.attrs['station_name']\n",
    "            \n",
    "        station_data = {\n",
    "            'station_name': station_name,\n",
    "            'latitude': ds['latitude'].values if 'latitude' in ds else np.nan,\n",
    "            'longitude': ds['longitude'].values if 'longitude' in ds else np.nan,\n",
    "            'temp': ds['temp'].values if 'temp' in ds else np.nan,\n",
    "            'pres': ds['pres'].values if 'pres' in ds else np.nan,\n",
    "            'psal': ds['psal'].values if 'psal' in ds else np.nan,\n",
    "            \n",
    "            \n",
    "        }\n",
    "        selected_data.append(station_data)\n",
    "    except Exception as e:\n",
    "        print(f\"Data processing error: {e}\")"
   ]
  },
  {
   "cell_type": "code",
   "execution_count": 54,
   "id": "332f2169-64be-428d-813c-b0ff0dc8cd6d",
   "metadata": {},
   "outputs": [
    {
     "name": "stdout",
     "output_type": "stream",
     "text": [
      "{'station_name': 'Z1', 'latitude': array([78.17433333]), 'longitude': array([10.9905]), 'temp': array([[8.239 , 8.2397, 8.2476, ...,    nan,    nan,    nan]]), 'pres': array([[ 2.,  3.,  4., ..., nan, nan, nan]]), 'psal': array([[34.5255, 34.5256, 34.5275, ...,     nan,     nan,     nan]])}\n",
      "{'station_name': 'N0', 'latitude': array([76.50316667]), 'longitude': array([11.0115]), 'temp': array([[6.8737, 6.8907, 6.8495, ...,    nan,    nan,    nan]]), 'pres': array([[ 1.,  2.,  3., ..., nan, nan, nan]]), 'psal': array([[34.9856, 34.9866, 34.9885, ...,     nan,     nan,     nan]])}\n",
      "{'station_name': 'K7', 'latitude': array([74.99983333]), 'longitude': array([13.177]), 'temp': array([[7.958 , 7.9535, 7.9511, ...,    nan,    nan,    nan]]), 'pres': array([[ 4.,  5.,  6., ..., nan, nan, nan]]), 'psal': array([[34.9499, 34.9497, 34.9498, ...,     nan,     nan,     nan]])}\n",
      "{'station_name': 'WB11', 'latitude': array([80.48166667]), 'longitude': array([12.1655]), 'temp': array([[1.8289, 1.8179, 1.7558, ...,    nan,    nan,    nan]]), 'pres': array([[ 2.,  3.,  4., ..., nan, nan, nan]]), 'psal': array([[32.568 , 32.5677, 32.5667, ...,     nan,     nan,     nan]])}\n",
      "{'station_name': 'V3', 'latitude': array([70.83233333]), 'longitude': array([19.933]), 'temp': array([[8.4607, 8.4137, 8.3782, ...,    nan,    nan,    nan]]), 'pres': array([[ 1.,  2.,  3., ..., nan, nan, nan]]), 'psal': array([[34.1618, 34.1633, 34.1638, ...,     nan,     nan,     nan]])}\n"
     ]
    }
   ],
   "source": [
    "for i, data in enumerate(selected_data[:5]): \n",
    "    print(data)"
   ]
  },
  {
   "cell_type": "code",
   "execution_count": 55,
   "id": "dac3a087-540c-405b-8cca-9a31b0f8ca19",
   "metadata": {},
   "outputs": [
    {
     "name": "stdout",
     "output_type": "stream",
     "text": [
      "Stacja 1:\n",
      "  Nazwa: Z1\n",
      "  Szerokość geograficzna: 78.17433333333334\n",
      "  Długość geograficzna: 10.9905\n",
      "  Salinity (psal): [34.5255 34.5256 34.5275 ...     nan     nan     nan] ...\n",
      "  Temperature (temp): [8.239  8.2397 8.2476 ...    nan    nan    nan] ...\n",
      "--------------------------------------------------\n",
      "Stacja 2:\n",
      "  Nazwa: N0\n",
      "  Szerokość geograficzna: 76.50316666666667\n",
      "  Długość geograficzna: 11.0115\n",
      "  Salinity (psal): [34.9856 34.9866 34.9885 ...     nan     nan     nan] ...\n",
      "  Temperature (temp): [6.8737 6.8907 6.8495 ...    nan    nan    nan] ...\n",
      "--------------------------------------------------\n",
      "Stacja 3:\n",
      "  Nazwa: K7\n",
      "  Szerokość geograficzna: 74.99983333333333\n",
      "  Długość geograficzna: 13.177\n",
      "  Salinity (psal): [34.9499 34.9497 34.9498 ...     nan     nan     nan] ...\n",
      "  Temperature (temp): [7.958  7.9535 7.9511 ...    nan    nan    nan] ...\n",
      "--------------------------------------------------\n",
      "Stacja 4:\n",
      "  Nazwa: WB11\n",
      "  Szerokość geograficzna: 80.48166666666667\n",
      "  Długość geograficzna: 12.1655\n",
      "  Salinity (psal): [32.568  32.5677 32.5667 ...     nan     nan     nan] ...\n",
      "  Temperature (temp): [1.8289 1.8179 1.7558 ...    nan    nan    nan] ...\n",
      "--------------------------------------------------\n",
      "Stacja 5:\n",
      "  Nazwa: V3\n",
      "  Szerokość geograficzna: 70.83233333333334\n",
      "  Długość geograficzna: 19.933\n",
      "  Salinity (psal): [34.1618 34.1633 34.1638 ...     nan     nan     nan] ...\n",
      "  Temperature (temp): [8.4607 8.4137 8.3782 ...    nan    nan    nan] ...\n",
      "--------------------------------------------------\n"
     ]
    }
   ],
   "source": [
    "for i, data in enumerate(selected_data[:5]): \n",
    "    print(f\"Stacja {i+1}:\")\n",
    "    print(f\"  Nazwa: {data['station_name']}\")\n",
    "    print(f\"  Szerokość geograficzna: {data['latitude'][0]}\")\n",
    "    print(f\"  Długość geograficzna: {data['longitude'][0]}\")\n",
    "    print(f\"  Salinity (psal): {data['psal'][0]} ...\")  \n",
    "    print(f\"  Temperature (temp): {data['temp'][0]} ...\") \n",
    "    print(\"-\" * 50)"
   ]
  },
  {
   "cell_type": "code",
   "execution_count": 56,
   "id": "b0198caf-293a-4622-9bcf-e14fa6e7561e",
   "metadata": {},
   "outputs": [
    {
     "name": "stdout",
     "output_type": "stream",
     "text": [
      "Channels:\n",
      " - conda-forge\n",
      " - defaults\n",
      "Platform: osx-arm64\n",
      "Collecting package metadata (repodata.json): done\n",
      "Solving environment: done\n",
      "\n",
      "# All requested packages already installed.\n",
      "\n",
      "Channels:\n",
      " - conda-forge\n",
      " - defaults\n",
      "Platform: osx-arm64\n",
      "Collecting package metadata (repodata.json): done\n",
      "Solving environment: done\n",
      "\n",
      "# All requested packages already installed.\n",
      "\n"
     ]
    }
   ],
   "source": [
    "!conda install gsw --channel conda-forge\n",
    "!conda install gsw --channel conda-forge -y #installation TEOS-10"
   ]
  },
  {
   "cell_type": "code",
   "execution_count": 57,
   "id": "9865179f-491c-43db-9f5b-3fd5394d0eaf",
   "metadata": {},
   "outputs": [
    {
     "name": "stdout",
     "output_type": "stream",
     "text": [
      "    station_name                                                 SA  \\\n",
      "1             Z1  [34.69016110188405, 34.69026305228805, 34.6921...   \n",
      "2             N0  [35.15239460477295, 35.15339992174584, 35.1553...   \n",
      "3             K7  [35.11646777493586, 35.11626762534661, 35.1163...   \n",
      "4           WB11  [32.723339461813396, 32.72304142595003, 32.722...   \n",
      "5             V3  [34.324428583269494, 34.325937177941725, 34.32...   \n",
      "..           ...                                                ...   \n",
      "247           O7  [34.25307669760167, 34.24775851000853, 34.2479...   \n",
      "248          WB3  [34.75276140402169, 34.751157137906134, 34.751...   \n",
      "249          V33  [34.33889544129157, 34.33648928597355, 34.3363...   \n",
      "250           Y6  [34.89929353571669, 34.89889559437654, 34.8974...   \n",
      "251           H5  [35.11594326853584, 35.116043211480616, 35.115...   \n",
      "\n",
      "                                                    CT  \\\n",
      "1    [8.237241791434684, 8.237838857600206, 8.24560...   \n",
      "2    [6.865686386544676, 6.882565826596328, 6.84128...   \n",
      "3    [7.949391705979029, 7.94479826229823, 7.942298...   \n",
      "4    [1.8430008926265924, 1.8319314573983008, 1.769...   \n",
      "5    [8.464985412738493, 8.417837132338486, 8.38221...   \n",
      "..                                                 ...   \n",
      "247  [2.230519427663574, 2.196105738660204, 2.19025...   \n",
      "248  [5.836930126268743, 5.855459676893514, 5.84967...   \n",
      "249  [3.3335264521407497, 3.335186029074905, 3.3354...   \n",
      "250  [6.4338230076503065, 6.423246643125198, 6.4062...   \n",
      "251  [2.7709412174245647, 2.7710064731140696, 2.771...   \n",
      "\n",
      "                                                  pres  \\\n",
      "1    [2.0, 3.0, 4.0, 5.0, 6.0, 7.0, 8.0, 9.0, 10.0,...   \n",
      "2    [1.0, 2.0, 3.0, 4.0, 5.0, 6.0, 7.0, 8.0, 9.0, ...   \n",
      "3    [4.0, 5.0, 6.0, 7.0, 8.0, 9.0, 10.0, 11.0, 12....   \n",
      "4    [2.0, 3.0, 4.0, 5.0, 6.0, 7.0, 8.0, 9.0, 10.0,...   \n",
      "5    [1.0, 2.0, 3.0, 4.0, 5.0, 6.0, 7.0, 8.0, 9.0, ...   \n",
      "..                                                 ...   \n",
      "247  [2.0, 3.0, 4.0, 5.0, 6.0, 7.0, 8.0, 9.0, 10.0,...   \n",
      "248  [1.0, 2.0, 3.0, 4.0, 5.0, 6.0, 7.0, 8.0, 9.0, ...   \n",
      "249  [3.0, 4.0, 5.0, 6.0, 7.0, 8.0, 9.0, 10.0, 11.0...   \n",
      "250  [2.0, 3.0, 4.0, 5.0, 6.0, 7.0, 8.0, 9.0, 10.0,...   \n",
      "251  [437.0, 436.0, 435.0, 434.0, 433.0, 432.0, 431...   \n",
      "\n",
      "                                                 depth  \n",
      "1    [0, 1, 2, 3, 4, 5, 6, 7, 8, 9, 10, 11, 12, 13,...  \n",
      "2    [0, 1, 2, 3, 4, 5, 6, 7, 8, 9, 10, 11, 12, 13,...  \n",
      "3    [0, 1, 2, 3, 4, 5, 6, 7, 8, 9, 10, 11, 12, 13,...  \n",
      "4    [0, 1, 2, 3, 4, 5, 6, 7, 8, 9, 10, 11, 12, 13,...  \n",
      "5    [0, 1, 2, 3, 4, 5, 6, 7, 8, 9, 10, 11, 12, 13,...  \n",
      "..                                                 ...  \n",
      "247  [0, 1, 2, 3, 4, 5, 6, 7, 8, 9, 10, 11, 12, 13,...  \n",
      "248  [0, 1, 2, 3, 4, 5, 6, 7, 8, 9, 10, 11, 12, 13,...  \n",
      "249  [0, 1, 2, 3, 4, 5, 6, 7, 8, 9, 10, 11, 12, 13,...  \n",
      "250  [0, 1, 2, 3, 4, 5, 6, 7, 8, 9, 10, 11, 12, 13,...  \n",
      "251  [0, 1, 2, 3, 4, 5, 6, 7, 8, 9, 10, 11, 12, 13,...  \n",
      "\n",
      "[251 rows x 5 columns]\n"
     ]
    }
   ],
   "source": [
    "import gsw\n",
    "import pandas as pd\n",
    "import numpy as np\n",
    "\n",
    "# For all stations\n",
    "def calculate_SA_CT(data, n_levels):   #ravel: flattens a NumPy array- converts a multi-dimensional array (e.g., a matrix) into a one-dimensional vector\n",
    "    SP = np.ravel(data['psal'])         \n",
    "    t = np.ravel(data['temp'])         \n",
    "    p = np.ravel(data['pres'])\n",
    "    longitude = data['longitude']\n",
    "    latitude = data['latitude']\n",
    "    \n",
    "    try:\n",
    "        # SA\n",
    "        SA = gsw.SA_from_SP(SP, p, longitude, latitude)\n",
    "        \n",
    "        # CT\n",
    "        CT = gsw.CT_from_t(SA, t, p)\n",
    "\n",
    "        # Depth\n",
    "        depth = n_levels\n",
    "\n",
    "        data['SA'] = SA\n",
    "        data['CT'] = CT\n",
    "        data['pres'] = p\n",
    "        data['depth'] = depth\n",
    "    except Exception as e:\n",
    "        print(f\"Error in calculations: {data['station_name']}: {e}\")\n",
    "        data['SA'] = None\n",
    "        data['CT'] = None\n",
    "        data['pres'] = None\n",
    "        data['depth'] = None\n",
    "    \n",
    "    return data\n",
    "# Processing for all of the stations\n",
    "processed_data = [calculate_SA_CT(station, n_levels) \n",
    "                  for station, n_levels in zip(selected_data, [ds['n_levels'].values for ds in datasets])]\n",
    "\n",
    "# Conversion to DataFrame\n",
    "df = pd.DataFrame(processed_data)\n",
    "\n",
    "# index from 1 \n",
    "df.index = df.index + 1\n",
    "\n",
    "\n",
    "print(df[['station_name', 'SA', 'CT', 'pres', 'depth']])\n"
   ]
  },
  {
   "cell_type": "code",
   "execution_count": 58,
   "id": "9628e308-e053-4b8c-a66c-476c772681dc",
   "metadata": {},
   "outputs": [
    {
     "name": "stdout",
     "output_type": "stream",
     "text": [
      "station_name    0\n",
      "latitude        0\n",
      "longitude       0\n",
      "temp            0\n",
      "pres            0\n",
      "psal            0\n",
      "SA              0\n",
      "CT              0\n",
      "depth           0\n",
      "dtype: int64\n"
     ]
    }
   ],
   "source": [
    "print(df.isna().sum())  # Number of NaN in each column"
   ]
  },
  {
   "cell_type": "code",
   "execution_count": 59,
   "id": "7016838b-51e0-4da3-a62c-a5d58c361d3b",
   "metadata": {},
   "outputs": [
    {
     "name": "stdout",
     "output_type": "stream",
     "text": [
      "Pierwsza stacja z max głębokością ok. 200 m:\n",
      "station_name                                                   N4\n",
      "longitude                                    [15.003333333333334]\n",
      "latitude                                      [76.49716666666667]\n",
      "depth           [0, 1, 2, 3, 4, 5, 6, 7, 8, 9, 10, 11, 12, 13,...\n",
      "Name: 24, dtype: object\n",
      "    station_name             longitude             latitude  distance_km\n",
      "188         N-14                 [1.0]  [76.50016666666667]   364.238758\n",
      "214         N-13  [1.9976666666666667]  [76.50066666666666]   338.392093\n",
      "153         N-12  [3.0603333333333333]  [76.50366666666666]   310.808514\n",
      "56          N-11               [3.997]  [76.50083333333333]   286.535394\n",
      "31          N-10               [5.007]  [76.50116666666666]   260.304654\n",
      "207          N-9              [5.5205]  [76.50483333333334]   246.930980\n",
      "181          N-8              [6.0025]  [76.50083333333333]   234.437912\n",
      "87           N-7              [6.5055]  [76.50066666666666]   221.361393\n",
      "13           N-6   [6.997333333333334]             [76.499]   208.582285\n",
      "142          N-5   [7.522666666666667]  [76.49883333333334]   194.915860\n",
      "118          N-4   [8.007666666666667]  [76.50116666666666]   182.279099\n",
      "203          N-3               [8.503]  [76.50033333333333]   169.391276\n",
      "177          N-2               [9.014]  [76.49933333333334]   156.092676\n",
      "76           N-1  [10.007666666666667]  [76.49966666666667]   130.211582\n",
      "2             N0             [11.0115]  [76.50316666666667]   104.046710\n",
      "235          N0P  [11.505666666666666]            [76.5015]    91.175275\n",
      "158           N1  [12.007666666666667]  [76.50116666666666]    78.093590\n",
      "61           N1P  [12.530833333333334]  [76.50033333333333]    64.459316\n",
      "37            N2  [13.025666666666666]  [76.50433333333334]    51.558063\n",
      "149          N2P  [13.496333333333334]            [76.5005]    39.290991\n",
      "125           N3             [14.0015]               [76.5]    26.121738\n",
      "224         N3PP  [14.196666666666667]  [76.50016666666667]    21.034061\n",
      "198          N3P  [14.503666666666666]  [76.49633333333334]    13.029507\n",
      "98          N4up  [14.980666666666666]  [76.50066666666666]     0.708441\n",
      "24            N4  [15.003333333333334]  [76.49716666666667]     0.000000\n",
      "244          N4P  [15.498833333333334]  [76.49916666666667]    12.921126\n",
      "167           N5              [15.996]  [76.50133333333333]    25.883761\n",
      "pres: 1D array\n",
      "CT: 1D array\n",
      "SA: 1D array\n"
     ]
    }
   ],
   "source": [
    "import pandas as pd\n",
    "from geopy.distance import geodesic\n",
    "\n",
    "\n",
    "stations_N_sorted = df[df['station_name'].str.startswith(\"N\") & ~df['station_name'].str[1:].str.startswith(\"B\")]\n",
    "stations_N_sorted = stations_N_sorted.sort_values(by=\"longitude\", ascending=True)\n",
    "\n",
    "# Checking stations with the maximum depth within 180–220 m\n",
    "def max_depth_near_200(depths, target_depth=200, tolerance=20):\n",
    "    max_depth = max(depths)  # Max depth for each station\n",
    "    return (target_depth - tolerance) <= max_depth <= (target_depth + tolerance)\n",
    "\n",
    "# Stations close to 200 m \n",
    "stations_with_max_depth_200 = stations_N_sorted[stations_N_sorted['depth'].apply(max_depth_near_200)]\n",
    "\n",
    "if not stations_with_max_depth_200.empty:\n",
    "    # Choosing the first station as a refernce\n",
    "    first_station = stations_with_max_depth_200.iloc[0]\n",
    "    ref_coords = (first_station['latitude'], first_station['longitude'])\n",
    "\n",
    "    print(\"First station with max depth about 200 m:\")\n",
    "    print(first_station[['station_name', 'longitude', 'latitude', 'depth']])\n",
    "\n",
    "    # Calculating the distance for all stations relative to the reference station\n",
    "    stations_N_sorted['distance_km'] = stations_N_sorted.apply(\n",
    "        lambda row: geodesic(ref_coords, (row['latitude'], row['longitude'])).kilometers,\n",
    "        axis=1\n",
    "    )\n",
    "\n",
    "    print(stations_N_sorted[['station_name', 'longitude', 'latitude', 'distance_km']])\n",
    "\n",
    "else:\n",
    "    print(\"No stations within range 180–220 m.\")\n",
    "import numpy as np\n",
    "\n",
    "# Checking if pres, CT i SA are 1D arrays\n",
    "columns_to_check = ['pres', 'CT', 'SA']\n",
    "for col in columns_to_check:\n",
    "    if isinstance(stations_N_sorted[col].iloc[0], np.ndarray):  # Checking  if the first value is a NumPy array\n",
    "        print(f\"{col}: {stations_N_sorted[col].iloc[0].ndim}D array\")\n",
    "    else:\n",
    "        print(f\"{col}: No numoy array\")"
   ]
  },
  {
   "cell_type": "code",
   "execution_count": 60,
   "id": "bdac152f-96ba-4058-8667-e54d11378843",
   "metadata": {},
   "outputs": [
    {
     "name": "stdout",
     "output_type": "stream",
     "text": [
      "    station_name                                               pres  \\\n",
      "188         N-14  [2.0, 3.0, 4.0, 5.0, 6.0, 7.0, 8.0, 9.0, 10.0,...   \n",
      "214         N-13  [1.0, 2.0, 3.0, 4.0, 5.0, 6.0, 7.0, 8.0, 9.0, ...   \n",
      "153         N-12  [1.0, 2.0, 3.0, 4.0, 5.0, 6.0, 7.0, 8.0, 9.0, ...   \n",
      "56          N-11  [2.0, 3.0, 4.0, 5.0, 6.0, 7.0, 8.0, 9.0, 10.0,...   \n",
      "31          N-10  [2.0, 3.0, 4.0, 5.0, 6.0, 7.0, 8.0, 9.0, 10.0,...   \n",
      "\n",
      "                                                    CT  \\\n",
      "188  [7.446755470529464, 7.441193157772698, 7.43177...   \n",
      "214  [nan, 6.942179532931624, 6.9870113698126195, 6...   \n",
      "153  [6.57579972688641, 6.56831909416697, 6.5704235...   \n",
      "56   [7.359193778442989, 7.360199318280225, 7.35310...   \n",
      "31   [nan, nan, nan, nan, nan, nan, 6.2279464248846...   \n",
      "\n",
      "                                                    SA  \n",
      "188  [34.78236466136686, 34.7802583219618, 34.78870...  \n",
      "214  [nan, 34.051285233697556, 34.051790377418406, ...  \n",
      "153  [34.5886225032578, 34.588122017694936, 34.5886...  \n",
      "56   [35.06427154401039, 35.06417218017092, 35.0647...  \n",
      "31   [nan, nan, nan, nan, nan, nan, 35.152796292429...  \n"
     ]
    }
   ],
   "source": [
    "print(stations_N_sorted[['station_name', 'pres', 'CT', 'SA']].head())\n"
   ]
  },
  {
   "cell_type": "code",
   "execution_count": 61,
   "id": "0b320b09-dc50-454e-a3fa-db863cee8e58",
   "metadata": {},
   "outputs": [
    {
     "name": "stdout",
     "output_type": "stream",
     "text": [
      "Index(['station_name', 'latitude', 'longitude', 'temp', 'pres', 'psal', 'SA',\n",
      "       'CT', 'depth', 'distance_km'],\n",
      "      dtype='object')\n"
     ]
    }
   ],
   "source": [
    "print(stations_N_sorted.columns)\n"
   ]
  },
  {
   "cell_type": "code",
   "execution_count": 62,
   "id": "af72679f-e25d-41ff-8356-50c5bd40f14b",
   "metadata": {},
   "outputs": [
    {
     "name": "stdout",
     "output_type": "stream",
     "text": [
      "    station_name             latitude             longitude  \\\n",
      "188         N-14  [76.50016666666667]                 [1.0]   \n",
      "214         N-13  [76.50066666666666]  [1.9976666666666667]   \n",
      "153         N-12  [76.50366666666666]  [3.0603333333333333]   \n",
      "56          N-11  [76.50083333333333]               [3.997]   \n",
      "31          N-10  [76.50116666666666]               [5.007]   \n",
      "\n",
      "                                                  temp  \\\n",
      "188  [[7.4498, 7.4443, 7.4351, 7.428, 7.4392, 7.448...   \n",
      "214  [[6.7338, 6.9347, 6.9796, 6.5305, 6.4838, 6.45...   \n",
      "153  [[6.5758, 6.5684, 6.5706, 6.5554, 6.5579, 6.53...   \n",
      "56   [[7.3664, 7.3675, 7.3605, 7.2352, 6.9956, 6.89...   \n",
      "31   [[6.25, 6.8763, 6.8144, 6.6864, 6.7423, 6.4653...   \n",
      "\n",
      "                                                  pres  \\\n",
      "188  [2.0, 3.0, 4.0, 5.0, 6.0, 7.0, 8.0, 9.0, 10.0,...   \n",
      "214  [1.0, 2.0, 3.0, 4.0, 5.0, 6.0, 7.0, 8.0, 9.0, ...   \n",
      "153  [1.0, 2.0, 3.0, 4.0, 5.0, 6.0, 7.0, 8.0, 9.0, ...   \n",
      "56   [2.0, 3.0, 4.0, 5.0, 6.0, 7.0, 8.0, 9.0, 10.0,...   \n",
      "31   [2.0, 3.0, 4.0, 5.0, 6.0, 7.0, 8.0, 9.0, 10.0,...   \n",
      "\n",
      "                                                  psal  \\\n",
      "188  [[34.6173, 34.6152, 34.6236, 34.6299, 34.6862,...   \n",
      "214  [[nan, 33.8897, 33.8902, 34.008, 34.0254, 34.0...   \n",
      "153  [[34.4245, 34.424, 34.4245, 34.4236, 34.4236, ...   \n",
      "56   [[34.8979, 34.8978, 34.8984, 34.9144, 34.9292,...   \n",
      "31   [[nan, nan, nan, nan, nan, nan, 34.986, 34.985...   \n",
      "\n",
      "                                                    SA  \\\n",
      "188  [34.78236466136686, 34.7802583219618, 34.78870...   \n",
      "214  [nan, 34.051285233697556, 34.051790377418406, ...   \n",
      "153  [34.5886225032578, 34.588122017694936, 34.5886...   \n",
      "56   [35.06427154401039, 35.06417218017092, 35.0647...   \n",
      "31   [nan, nan, nan, nan, nan, nan, 35.152796292429...   \n",
      "\n",
      "                                                    CT  \\\n",
      "188  [7.446755470529464, 7.441193157772698, 7.43177...   \n",
      "214  [nan, 6.942179532931624, 6.9870113698126195, 6...   \n",
      "153  [6.57579972688641, 6.56831909416697, 6.5704235...   \n",
      "56   [7.359193778442989, 7.360199318280225, 7.35310...   \n",
      "31   [nan, nan, nan, nan, nan, nan, 6.2279464248846...   \n",
      "\n",
      "                                                 depth  distance_km  \n",
      "188  [0, 1, 2, 3, 4, 5, 6, 7, 8, 9, 10, 11, 12, 13,...   364.238758  \n",
      "214  [0, 1, 2, 3, 4, 5, 6, 7, 8, 9, 10, 11, 12, 13,...   338.392093  \n",
      "153  [0, 1, 2, 3, 4, 5, 6, 7, 8, 9, 10, 11, 12, 13,...   310.808514  \n",
      "56   [0, 1, 2, 3, 4, 5, 6, 7, 8, 9, 10, 11, 12, 13,...   286.535394  \n",
      "31   [0, 1, 2, 3, 4, 5, 6, 7, 8, 9, 10, 11, 12, 13,...   260.304654  \n"
     ]
    }
   ],
   "source": [
    "print(stations_N_sorted.head())  # First 5 stations\n"
   ]
  },
  {
   "cell_type": "code",
   "execution_count": 126,
   "id": "6dd19a4d-ae1b-43c5-b496-efc7262ecb9e",
   "metadata": {},
   "outputs": [
    {
     "name": "stdout",
     "output_type": "stream",
     "text": [
      "Length x_cleaned: 98037\n",
      "Length y_cleaned: 98037\n",
      "Length z_cleaned: 98037\n"
     ]
    }
   ],
   "source": [
    "import numpy as np\n",
    "\n",
    "# Flattening y and z and adjusting x accordingly\n",
    "y_cleaned = []\n",
    "z_cleaned = []\n",
    "x_cleaned = []\n",
    "\n",
    "# Checking the length of x\n",
    "x_length = len(x)\n",
    "\n",
    "# Iterating through y to flatten and adjust x\n",
    "for idx, pres_value in enumerate(y):\n",
    "    if isinstance(pres_value, np.ndarray):  # Check if it's an Numpy array or single value \n",
    "        pres_flat = pres_value.flatten()  # Flatten to 1D\n",
    "        y_cleaned.extend(pres_flat)  # Add all values to y_cleaned\n",
    "        # Jeśli x[idx] jest poza zakresem, to powtarzamy wartość z x --> idx % x_length zapewnia, że indeks nie wykracza poza długość x\n",
    "        x_cleaned.extend([x[idx % x_length]] * len(pres_flat))  # Repeat corresponding value of x for flattened pres_value\n",
    "    else:\n",
    "        y_cleaned.append(pres_value)\n",
    "        # Reapting the value from x using the modulo operator to avoid going out of bounds \n",
    "        x_cleaned.append(x[idx % x_length])\n",
    "\n",
    "# Iterating through z to flatten (same process as for y)\n",
    "for idx, temp_value in enumerate(z):\n",
    "    if isinstance(temp_value, np.ndarray):\n",
    "        temp_flat = temp_value.flatten()\n",
    "        z_cleaned.extend(temp_flat)\n",
    "    else:\n",
    "        z_cleaned.append(temp_value)\n",
    "\n",
    "# Checking if all lists (x_cleaned, y_cleaned, z_cleaned) have the same length\n",
    "print(f\"Length x_cleaned: {len(x_cleaned)}\")\n",
    "print(f\"Length y_cleaned: {len(y_cleaned)}\")\n",
    "print(f\"Length z_cleaned: {len(z_cleaned)}\")\n",
    "\n",
    "# Creating a DataFrame\n",
    "valid_data = pd.DataFrame({'x': x_cleaned, 'y': y_cleaned, 'z': z_cleaned})\n",
    "valid_data = valid_data.dropna()\n",
    "\n",
    "# Conversion to numpy arrays \n",
    "x_clean = valid_data['x'].values\n",
    "y_clean = valid_data['y'].values\n",
    "z_clean = valid_data['z'].values\n"
   ]
  },
  {
   "cell_type": "code",
   "execution_count": 130,
   "id": "431cf786-b468-4dce-97c9-6f7a04f166ef",
   "metadata": {},
   "outputs": [
    {
     "data": {
      "image/png": "[encoded data removed]",
      "text/plain": [
       "<Figure size 1200x600 with 2 Axes>"
      ]
     },
     "metadata": {},
     "output_type": "display_data"
    }
   ],
   "source": [
    "import numpy as np\n",
    "import pandas as pd\n",
    "from scipy.interpolate import griddata\n",
    "import matplotlib.pyplot as plt\n",
    "\n",
    "# Grid resolution\n",
    "distance_res = 2  # km\n",
    "pressure_res = 10  # dbar\n",
    "\n",
    "# Creating grid\n",
    "xi = np.arange(min(x_clean), max(x_clean) + distance_res, distance_res)\n",
    "yi = np.arange(min(y_clean), max(y_clean) + pressure_res, pressure_res)\n",
    "xi, yi = np.meshgrid(xi, yi)\n",
    "\n",
    "# Interpolation\n",
    "zi = griddata((x_clean, y_clean), z_clean, (xi, yi), method='linear')\n",
    "\n",
    "# Defining contours (adjusting the range to your data)\n",
    "levels = np.linspace(np.min(z_clean), np.max(z_clean), 20)  # Dynamically adjusting levels\n",
    "\n",
    "# Profile\n",
    "plt.figure(figsize=(12, 6))\n",
    "\n",
    "# Colour map\n",
    "cmap = plt.get_cmap('coolwarm')\n",
    "\n",
    "# Creating contours \n",
    "contour = plt.contourf(xi, -yi, zi, levels=levels, cmap=cmap, extend='both')\n",
    "\n",
    "# Adding a colorbar\n",
    "cbar = plt.colorbar(contour)\n",
    "cbar.set_label('Temperature [°C]')\n",
    "\n",
    "# Values every 0.5 degrees\n",
    "cbar.set_ticks(np.arange(np.floor(np.min(z_clean)), np.ceil(np.max(z_clean)) + 0.5, 0.5))  # Values with a step of 0.5\n",
    "cbar.ax.yaxis.set_major_formatter(plt.FuncFormatter(lambda x, _: f'{x:.1f}'))  # One decimal place for better display\n",
    "\n",
    "# Axes\n",
    "plt.xlabel('Distance [km]')\n",
    "plt.ylabel('Pressure [dbar]')\n",
    "\n",
    "plt.title('Conservative Temperature Profile for N-section')\n",
    "\n",
    "plt.show()\n"
   ]
  },
  {
   "cell_type": "markdown",
   "id": "e29125d2-7059-48ef-ad59-082b16dc9406",
   "metadata": {},
   "source": [
    "## "
   ]
  }
 ],
 "metadata": {
  "kernelspec": {
   "display_name": "Python 3 (ipykernel)",
   "language": "python",
   "name": "python3"
  },
  "language_info": {
   "codemirror_mode": {
    "name": "ipython",
    "version": 3
   },
   "file_extension": ".py",
   "mimetype": "text/x-python",
   "name": "python",
   "nbconvert_exporter": "python",
   "pygments_lexer": "ipython3",
   "version": "3.11.8"
  }
 },
 "nbformat": 4,
 "nbformat_minor": 5
}
